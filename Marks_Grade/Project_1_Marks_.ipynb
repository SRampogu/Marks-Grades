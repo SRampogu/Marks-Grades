{
  "cells": [
    {
      "cell_type": "code",
      "execution_count": 1,
      "metadata": {
        "colab": {
          "base_uri": "https://localhost:8080/"
        },
        "id": "LgtEG3O2uEgo",
        "outputId": "71bca29b-f5cd-433f-b6f3-819d3b1f54f2"
      },
      "outputs": [
        {
          "output_type": "stream",
          "name": "stdout",
          "text": [
            "{'maths': 90, 'science': 70, 'social': 60, 'english': 50, 'hindi': 60, 'telugu': 52}\n"
          ]
        }
      ],
      "source": [
        "stu1={'maths':90, 'science':70,'social':60, 'english':50,'hindi':60,'telugu':52}\n",
        "stu2={'maths':90, 'science':70,'social':60, 'english':50,'hindi':60,'telugu':52}\n",
        "stu3={'maths':90, 'science':70,'social':60, 'english':50,'hindi':60,'telugu':52}\n",
        "stu4={'maths':90, 'science':70,'social':60, 'english':50,'hindi':60,'telugu':52}\n",
        "print(stu1)\n"
      ]
    },
    {
      "cell_type": "code",
      "execution_count": 2,
      "metadata": {
        "id": "WsdS-ABzz9lc"
      },
      "outputs": [],
      "source": [
        "class Marks:\n",
        "  def __init__(self,name,hallTicketNo, maths, science, social, english, telugu,hindi):\n",
        "    self.name=name\n",
        "    self.hallTicketNo=hallTicketNo\n",
        "    self.maths=maths\n",
        "    self.science=science\n",
        "    self.social=social\n",
        "    self.english=english\n",
        "    self.telugu=telugu\n",
        "    self.hindi=hindi\n",
        "  def display(self):\n",
        "    print(\"Student name is : \", self.name)\n",
        "    print(\"Student hall Ticket no is : \", self.hallTicketNo)\n",
        "    print(\"Maths :\", self.maths)\n",
        "    print(\"Science :\",self.science)\n",
        "    print(\"Social :\", self.social)\n",
        "    print(\"English :\",self.english)\n",
        "    print(\"Telugu :\", self.telugu)\n",
        "    print(\"Hindi :\",self.hindi)\n",
        "\n",
        "stu1=Marks(\"Akhil\",\"397853\",20,50,80,90,30,100)\n",
        "#stu1.display()\n",
        "\n",
        "stu2=Marks(\"Akhila\",\"4567853\",70,60,40,10,80,70)\n",
        "#stu2.display()   \n",
        "\n"
      ]
    },
    {
      "cell_type": "code",
      "execution_count": null,
      "metadata": {
        "id": "_AbS60yJz9py"
      },
      "outputs": [],
      "source": [
        "class Marks:\n",
        "  def __init__(self,name,hallTicketNo, maths, science, social, english, telugu,hindi):\n",
        "    self.name=name\n",
        "    self.hallTicketNo=hallTicketNo\n",
        "    self.maths=maths\n",
        "    self.science=science\n",
        "    self.social=social\n",
        "    self.english=english\n",
        "    self.telugu=telugu\n",
        "    self.hindi=hindi\n",
        "  def display(self):\n",
        "    print(\"Student name is : \", self.name)\n",
        "    print(\"Student hall Ticket no is : \", self.hallTicketNo)\n",
        "    print(\"Maths :\", self.maths)\n",
        "    print(\"Science :\",self.science)\n",
        "    print(\"Social :\", self.social)\n",
        "    print(\"English :\",self.english)\n",
        "    print(\"Telugu :\", self.telugu)\n",
        "    print(\"Hindi :\",self.hindi)\n",
        "\n",
        "stu1=Marks(\"Akhil\",\"397853\",20,50,80,90,30,100)\n",
        "stu1.display()\n",
        "\n",
        "stu2=Marks(\"Akhila\",\"4567853\",70,60,40,10,80,70)\n",
        "#stu2.display() "
      ]
    },
    {
      "cell_type": "code",
      "source": [],
      "metadata": {
        "id": "B8wTvyGodx31"
      },
      "execution_count": null,
      "outputs": []
    }
  ],
  "metadata": {
    "colab": {
      "provenance": []
    },
    "kernelspec": {
      "display_name": "Python 3",
      "name": "python3"
    },
    "language_info": {
      "name": "python"
    }
  },
  "nbformat": 4,
  "nbformat_minor": 0
}