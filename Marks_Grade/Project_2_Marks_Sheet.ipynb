{
  "nbformat": 4,
  "nbformat_minor": 0,
  "metadata": {
    "colab": {
      "provenance": []
    },
    "kernelspec": {
      "name": "python3",
      "display_name": "Python 3"
    },
    "language_info": {
      "name": "python"
    }
  },
  "cells": [
    {
      "cell_type": "markdown",
      "source": [
        "**Marks Memo**\n",
        "With iloc[ ]"
      ],
      "metadata": {
        "id": "svLlCYb2C8qb"
      }
    },
    {
      "cell_type": "code",
      "execution_count": null,
      "metadata": {
        "id": "_IDdc77tCrJa"
      },
      "outputs": [],
      "source": [
        "import pandas as pd\n",
        "import numpy as np\n",
        "\n",
        "\n",
        "results=[{ \"Name\":'Akhila', \"hallTicketNo\":1967456,'Maths':90, 'Science':70,'Social':60, 'English':80,'Hindi':60,'Telugu':72},\n",
        "        { \"Name\":'Anil', \"hallTicketNo\":1967457, 'Maths':100, 'Science':90,'Social':20, 'English':80,'Hindi':90,'Telugu':72},\n",
        "        { \"Name\":'Anne', \"hallTicketNo\":1967458,'Maths':80, 'Science':60,'Social':50, 'English':91,'Hindi':73,'Telugu':45},\n",
        "         { \"Name\":'Peter', \"hallTicketNo\":1967459,'Maths':40, 'Science':70,'Social':90, 'English':90,'Hindi':63,'Telugu':39}]\n",
        "df = pd.DataFrame.from_dict(results)\n",
        " \n",
        "#  column (hallTicketNo) as Index\n",
        "df1 = pd.DataFrame(df).set_index('hallTicketNo')\n",
        "#print(df1)\n",
        "for i in range (len(df1)):\n",
        "  inp1=int(input('Enter 1 if you want to see the marks or press 2:' ))\n",
        "  if inp1==1:\n",
        "    r1=(int(input(\"Enter the hall ticket no : \",)))\n",
        "    #print(df1.loc[r1])\n",
        "    Test1=(df1.loc[r1][0])\n",
        "    Test=(df1.loc[r1])\n",
        "    print(\"Name of the candidate : \", Test1, \"\\n\")\n",
        "    #print(type(Test))\n",
        "    \n",
        "    df0 = pd.Series.to_frame(Test)\n",
        "    df2 = df0.reset_index()\n",
        "    df2.columns = [\"Subjects\", \"Marks\"]\n",
        "    df3=df2.drop(index=0)\n",
        "    df3.loc[df3['Marks'] >= 36, 'Results'] = 'Pass'\n",
        "    df3.loc[df3['Marks'] <= 35, 'Results'] = 'Fail'\n",
        "    print(df3,\"\\n\")\n",
        "    print('************************************')\n",
        "    \n",
        "\n",
        "    Total = df1.sum(axis=1,numeric_only=True) #all rows ,numeric_only=True: to ignore the error  Dropping of nuisance columns.....\n",
        "    print(\"The Total is : \",Total[r1],\"\\n\") # prints specific total of r1 (hallticket)\n",
        "\n",
        "    per=(Total/600)*100\n",
        "    perc=int(per[r1]) # float to int \n",
        "    #print(\"The percentage is : \",  (per[r1]), \"\\n\")\n",
        "    print(\"The percentage is : \",  perc, \"\\n\")\n",
        "    #print(\"The percentage is : \",  (round(per[r1],2)), \"\\n\") #round -> to get two decimals.\n",
        "    #print(\"The percentage is : \",  per[r1], \"\\n\") # All decimals will be displayed\n",
        "    if perc >= 75:\n",
        "      print(\"Congrats, you scored a Distinction\",\"\\n\")\n",
        "    elif perc >=60 and perc<=74:\n",
        "      print(\"Congrats, you scored First Class\",\"\\n\")\n",
        "    elif perc >=50 and perc <= 59:\n",
        "      print(\"Congrats, you scored Second  Class\",\"\\n\")\n",
        "    elif perc >= 35 and perc <= 49:\n",
        "      print(\"Congrats, you scored Third  Class\",\"\\n\")\n",
        "    else:\n",
        "      print(\"Sorry, you Failed\",\"\\n\")\n",
        "\n",
        "    if ('Fail' in set(df3['Results'])):\n",
        "       print(\"The Overall Results is : FAIL\",\"\\n\")\n",
        "    else:\n",
        "      print(\"The Overall Result is : PASS\",\"\\n\")\n",
        "    \n",
        "    \n",
        "  if inp1 > 2:\n",
        "    print(\"Please check again\")\n",
        "    \n",
        "  if inp1==2:\n",
        "    break\n",
        "  \n",
        "\n",
        "print(\"Thank you. All the best for your future\")"
      ]
    }
  ]
}